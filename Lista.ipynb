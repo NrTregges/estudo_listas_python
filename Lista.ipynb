{
 "cells": [
  {
   "cell_type": "markdown",
   "id": "41822253",
   "metadata": {},
   "source": [
    "# Listas"
   ]
  },
  {
   "cell_type": "code",
   "execution_count": 9,
   "id": "16c5c243",
   "metadata": {},
   "outputs": [],
   "source": [
    "# Criação de lista \n",
    "lista1 = [1, 'a', 2.3]\n",
    "\n",
    "b = [1,2,3,4,5,6]"
   ]
  },
  {
   "cell_type": "code",
   "execution_count": 10,
   "id": "116b83bb",
   "metadata": {},
   "outputs": [
    {
     "name": "stdout",
     "output_type": "stream",
     "text": [
      "[1, 'a', 2.3]\n",
      "[1, 2, 3, 4, 5, 6]\n"
     ]
    }
   ],
   "source": [
    "print(lista1)\n",
    "print(b)"
   ]
  },
  {
   "cell_type": "code",
   "execution_count": 13,
   "id": "06088d28",
   "metadata": {
    "scrolled": true
   },
   "outputs": [
    {
     "name": "stdout",
     "output_type": "stream",
     "text": [
      "1\n",
      "3\n"
     ]
    }
   ],
   "source": [
    "# Acessando os elemntos da lista: \n",
    "\n",
    "print(lista1[0])\n",
    "print(b[2])"
   ]
  },
  {
   "cell_type": "code",
   "execution_count": 15,
   "id": "16acefaf",
   "metadata": {},
   "outputs": [],
   "source": [
    "# Codificando um elemento da lista \n",
    "\n",
    "b[2]= 15"
   ]
  },
  {
   "cell_type": "code",
   "execution_count": 17,
   "id": "005fcd29",
   "metadata": {},
   "outputs": [
    {
     "name": "stdout",
     "output_type": "stream",
     "text": [
      "[1, 2, 15, 4, 5, 6]\n"
     ]
    }
   ],
   "source": [
    "# Verificando a nova lista b\n",
    "print(b)"
   ]
  },
  {
   "cell_type": "markdown",
   "id": "421e889a",
   "metadata": {},
   "source": [
    "## Ordenação de listas"
   ]
  },
  {
   "cell_type": "code",
   "execution_count": 26,
   "id": "6cc8cd15",
   "metadata": {},
   "outputs": [
    {
     "name": "stdout",
     "output_type": "stream",
     "text": [
      "[1, 2, 4, 5, 6, 15]\n"
     ]
    }
   ],
   "source": [
    "# Ordeando a lista b\n",
    "\n",
    "c = sorted(b)\n",
    "\n",
    "print(c)"
   ]
  },
  {
   "cell_type": "code",
   "execution_count": 27,
   "id": "3b5fdc9c",
   "metadata": {},
   "outputs": [],
   "source": [
    "# Usando o método Sort\n",
    "\n",
    "d = b.sort()"
   ]
  },
  {
   "cell_type": "code",
   "execution_count": 28,
   "id": "5a1dc49f",
   "metadata": {},
   "outputs": [
    {
     "name": "stdout",
     "output_type": "stream",
     "text": [
      "None\n"
     ]
    }
   ],
   "source": [
    "print(d)"
   ]
  },
  {
   "cell_type": "code",
   "execution_count": 29,
   "id": "6e781d29",
   "metadata": {},
   "outputs": [
    {
     "name": "stdout",
     "output_type": "stream",
     "text": [
      "[1, 2, 4, 5, 6, 15]\n"
     ]
    }
   ],
   "source": [
    "print(b)"
   ]
  },
  {
   "cell_type": "code",
   "execution_count": 31,
   "id": "ff0b6358",
   "metadata": {},
   "outputs": [],
   "source": [
    "e = [2,13,6,1,9]"
   ]
  },
  {
   "cell_type": "code",
   "execution_count": 32,
   "id": "07a8ae74",
   "metadata": {},
   "outputs": [
    {
     "name": "stdout",
     "output_type": "stream",
     "text": [
      "None\n"
     ]
    }
   ],
   "source": [
    "print(e.sort())"
   ]
  },
  {
   "cell_type": "code",
   "execution_count": 33,
   "id": "b5e47f8c",
   "metadata": {},
   "outputs": [
    {
     "name": "stdout",
     "output_type": "stream",
     "text": [
      "[1, 2, 6, 9, 13]\n"
     ]
    }
   ],
   "source": [
    "print(e)"
   ]
  },
  {
   "cell_type": "code",
   "execution_count": null,
   "id": "7647867c",
   "metadata": {},
   "outputs": [],
   "source": []
  },
  {
   "cell_type": "code",
   "execution_count": null,
   "id": "102e5621",
   "metadata": {},
   "outputs": [],
   "source": []
  },
  {
   "cell_type": "code",
   "execution_count": null,
   "id": "5e6f92aa",
   "metadata": {},
   "outputs": [],
   "source": []
  }
 ],
 "metadata": {
  "kernelspec": {
   "display_name": "Python 3 (ipykernel)",
   "language": "python",
   "name": "python3"
  },
  "language_info": {
   "codemirror_mode": {
    "name": "ipython",
    "version": 3
   },
   "file_extension": ".py",
   "mimetype": "text/x-python",
   "name": "python",
   "nbconvert_exporter": "python",
   "pygments_lexer": "ipython3",
   "version": "3.10.9"
  }
 },
 "nbformat": 4,
 "nbformat_minor": 5
}
